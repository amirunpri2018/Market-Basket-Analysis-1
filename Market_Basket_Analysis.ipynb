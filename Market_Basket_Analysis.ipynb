{
  "nbformat": 4,
  "nbformat_minor": 0,
  "metadata": {
    "colab": {
      "name": "Market Basket Analysis.ipynb",
      "provenance": [],
      "authorship_tag": "ABX9TyP9Vcml0Vtj+2hX6ZvKvyCS",
      "include_colab_link": true
    },
    "kernelspec": {
      "name": "python3",
      "display_name": "Python 3"
    }
  },
  "cells": [
    {
      "cell_type": "markdown",
      "metadata": {
        "id": "view-in-github",
        "colab_type": "text"
      },
      "source": [
        "<a href=\"https://colab.research.google.com/github/dhamvi01/Market-Basket-Analysis/blob/main/Market_Basket_Analysis.ipynb\" target=\"_parent\"><img src=\"https://colab.research.google.com/assets/colab-badge.svg\" alt=\"Open In Colab\"/></a>"
      ]
    },
    {
      "cell_type": "markdown",
      "metadata": {
        "id": "HEQCneTKB_5K"
      },
      "source": [
        "#### 1. Import Liraries"
      ]
    },
    {
      "cell_type": "code",
      "metadata": {
        "id": "dLHCN6yv9cks"
      },
      "source": [
        "import pandas as pd\n",
        "from mlxtend.frequent_patterns import apriori\n",
        "from mlxtend.frequent_patterns import association_rules"
      ],
      "execution_count": 1,
      "outputs": []
    },
    {
      "cell_type": "markdown",
      "metadata": {
        "id": "xd0PSQuyCFH8"
      },
      "source": [
        "#### 2 . Import Data"
      ]
    },
    {
      "cell_type": "code",
      "metadata": {
        "id": "dOHg0a9S-ypf",
        "outputId": "be220edc-6aaf-45a2-845b-efd451f649b0",
        "colab": {
          "base_uri": "https://localhost:8080/",
          "height": 195
        }
      },
      "source": [
        "df = pd.read_csv(\"BreadBasket_DMS.csv\")\n",
        "df.head()"
      ],
      "execution_count": 3,
      "outputs": [
        {
          "output_type": "execute_result",
          "data": {
            "text/html": [
              "<div>\n",
              "<style scoped>\n",
              "    .dataframe tbody tr th:only-of-type {\n",
              "        vertical-align: middle;\n",
              "    }\n",
              "\n",
              "    .dataframe tbody tr th {\n",
              "        vertical-align: top;\n",
              "    }\n",
              "\n",
              "    .dataframe thead th {\n",
              "        text-align: right;\n",
              "    }\n",
              "</style>\n",
              "<table border=\"1\" class=\"dataframe\">\n",
              "  <thead>\n",
              "    <tr style=\"text-align: right;\">\n",
              "      <th></th>\n",
              "      <th>Date</th>\n",
              "      <th>Time</th>\n",
              "      <th>Transaction</th>\n",
              "      <th>Item</th>\n",
              "    </tr>\n",
              "  </thead>\n",
              "  <tbody>\n",
              "    <tr>\n",
              "      <th>0</th>\n",
              "      <td>2016-10-30</td>\n",
              "      <td>09:58:11</td>\n",
              "      <td>1</td>\n",
              "      <td>Bread</td>\n",
              "    </tr>\n",
              "    <tr>\n",
              "      <th>1</th>\n",
              "      <td>2016-10-30</td>\n",
              "      <td>10:05:34</td>\n",
              "      <td>2</td>\n",
              "      <td>Scandinavian</td>\n",
              "    </tr>\n",
              "    <tr>\n",
              "      <th>2</th>\n",
              "      <td>2016-10-30</td>\n",
              "      <td>10:05:34</td>\n",
              "      <td>2</td>\n",
              "      <td>Scandinavian</td>\n",
              "    </tr>\n",
              "    <tr>\n",
              "      <th>3</th>\n",
              "      <td>2016-10-30</td>\n",
              "      <td>10:07:57</td>\n",
              "      <td>3</td>\n",
              "      <td>Hot chocolate</td>\n",
              "    </tr>\n",
              "    <tr>\n",
              "      <th>4</th>\n",
              "      <td>2016-10-30</td>\n",
              "      <td>10:07:57</td>\n",
              "      <td>3</td>\n",
              "      <td>Jam</td>\n",
              "    </tr>\n",
              "  </tbody>\n",
              "</table>\n",
              "</div>"
            ],
            "text/plain": [
              "         Date      Time  Transaction           Item\n",
              "0  2016-10-30  09:58:11            1          Bread\n",
              "1  2016-10-30  10:05:34            2   Scandinavian\n",
              "2  2016-10-30  10:05:34            2   Scandinavian\n",
              "3  2016-10-30  10:07:57            3  Hot chocolate\n",
              "4  2016-10-30  10:07:57            3            Jam"
            ]
          },
          "metadata": {
            "tags": []
          },
          "execution_count": 3
        }
      ]
    },
    {
      "cell_type": "markdown",
      "metadata": {
        "id": "28AoBN-4CI_s"
      },
      "source": [
        "#### 3. Raw data prep\n",
        "\n",
        " We’ll group the bread dataframe accordingly and display the count of items then we need to consolidate the items into 1 transaction per row with each product 1 hot encoded."
      ]
    },
    {
      "cell_type": "code",
      "metadata": {
        "id": "EBfpPZCt_FLl"
      },
      "source": [
        "df = df.groupby(['Transaction','Item']).size().reset_index(name='count')\n",
        "basket = (df.groupby(['Transaction', 'Item'])['count']\n",
        "          .sum().unstack().reset_index().fillna(0)\n",
        "          .set_index('Transaction'))\n",
        "#The encoding function\n",
        "def encode_units(x):\n",
        "    if x <= 0:\n",
        "        return 0\n",
        "    if x >= 1:\n",
        "        return 1\n",
        "basket_sets = basket.applymap(encode_units)"
      ],
      "execution_count": 5,
      "outputs": []
    },
    {
      "cell_type": "markdown",
      "metadata": {
        "id": "0-WcOKkbCarc"
      },
      "source": [
        "#### 4. Model building"
      ]
    },
    {
      "cell_type": "code",
      "metadata": {
        "id": "AyfG_oH8Bvme",
        "outputId": "7c30e4ab-a7e7-4f47-fd1a-c5687b4fca63",
        "colab": {
          "base_uri": "https://localhost:8080/",
          "height": 343
        }
      },
      "source": [
        "frequent_itemsets = apriori(basket_sets, min_support=0.01, use_colnames=True)\n",
        "rules = association_rules(frequent_itemsets, metric=\"lift\")\n",
        "rules.sort_values('confidence', ascending = False, inplace = True)\n",
        "rules.head(10)"
      ],
      "execution_count": 6,
      "outputs": [
        {
          "output_type": "execute_result",
          "data": {
            "text/html": [
              "<div>\n",
              "<style scoped>\n",
              "    .dataframe tbody tr th:only-of-type {\n",
              "        vertical-align: middle;\n",
              "    }\n",
              "\n",
              "    .dataframe tbody tr th {\n",
              "        vertical-align: top;\n",
              "    }\n",
              "\n",
              "    .dataframe thead th {\n",
              "        text-align: right;\n",
              "    }\n",
              "</style>\n",
              "<table border=\"1\" class=\"dataframe\">\n",
              "  <thead>\n",
              "    <tr style=\"text-align: right;\">\n",
              "      <th></th>\n",
              "      <th>antecedents</th>\n",
              "      <th>consequents</th>\n",
              "      <th>antecedent support</th>\n",
              "      <th>consequent support</th>\n",
              "      <th>support</th>\n",
              "      <th>confidence</th>\n",
              "      <th>lift</th>\n",
              "      <th>leverage</th>\n",
              "      <th>conviction</th>\n",
              "    </tr>\n",
              "  </thead>\n",
              "  <tbody>\n",
              "    <tr>\n",
              "      <th>44</th>\n",
              "      <td>(Toast)</td>\n",
              "      <td>(Coffee)</td>\n",
              "      <td>0.033365</td>\n",
              "      <td>0.475081</td>\n",
              "      <td>0.023502</td>\n",
              "      <td>0.704403</td>\n",
              "      <td>1.482699</td>\n",
              "      <td>0.007651</td>\n",
              "      <td>1.775789</td>\n",
              "    </tr>\n",
              "    <tr>\n",
              "      <th>43</th>\n",
              "      <td>(Spanish Brunch)</td>\n",
              "      <td>(Coffee)</td>\n",
              "      <td>0.018046</td>\n",
              "      <td>0.475081</td>\n",
              "      <td>0.010807</td>\n",
              "      <td>0.598837</td>\n",
              "      <td>1.260494</td>\n",
              "      <td>0.002233</td>\n",
              "      <td>1.308493</td>\n",
              "    </tr>\n",
              "    <tr>\n",
              "      <th>28</th>\n",
              "      <td>(Medialuna)</td>\n",
              "      <td>(Coffee)</td>\n",
              "      <td>0.061379</td>\n",
              "      <td>0.475081</td>\n",
              "      <td>0.034939</td>\n",
              "      <td>0.569231</td>\n",
              "      <td>1.198175</td>\n",
              "      <td>0.005779</td>\n",
              "      <td>1.218561</td>\n",
              "    </tr>\n",
              "    <tr>\n",
              "      <th>34</th>\n",
              "      <td>(Pastry)</td>\n",
              "      <td>(Coffee)</td>\n",
              "      <td>0.085510</td>\n",
              "      <td>0.475081</td>\n",
              "      <td>0.047214</td>\n",
              "      <td>0.552147</td>\n",
              "      <td>1.162216</td>\n",
              "      <td>0.006590</td>\n",
              "      <td>1.172079</td>\n",
              "    </tr>\n",
              "    <tr>\n",
              "      <th>3</th>\n",
              "      <td>(Alfajores)</td>\n",
              "      <td>(Coffee)</td>\n",
              "      <td>0.036093</td>\n",
              "      <td>0.475081</td>\n",
              "      <td>0.019515</td>\n",
              "      <td>0.540698</td>\n",
              "      <td>1.138116</td>\n",
              "      <td>0.002368</td>\n",
              "      <td>1.142861</td>\n",
              "    </tr>\n",
              "    <tr>\n",
              "      <th>26</th>\n",
              "      <td>(Juice)</td>\n",
              "      <td>(Coffee)</td>\n",
              "      <td>0.038296</td>\n",
              "      <td>0.475081</td>\n",
              "      <td>0.020460</td>\n",
              "      <td>0.534247</td>\n",
              "      <td>1.124537</td>\n",
              "      <td>0.002266</td>\n",
              "      <td>1.127031</td>\n",
              "    </tr>\n",
              "    <tr>\n",
              "      <th>32</th>\n",
              "      <td>(NONE)</td>\n",
              "      <td>(Coffee)</td>\n",
              "      <td>0.079005</td>\n",
              "      <td>0.475081</td>\n",
              "      <td>0.042073</td>\n",
              "      <td>0.532537</td>\n",
              "      <td>1.120938</td>\n",
              "      <td>0.004539</td>\n",
              "      <td>1.122908</td>\n",
              "    </tr>\n",
              "    <tr>\n",
              "      <th>36</th>\n",
              "      <td>(Sandwich)</td>\n",
              "      <td>(Coffee)</td>\n",
              "      <td>0.071346</td>\n",
              "      <td>0.475081</td>\n",
              "      <td>0.037981</td>\n",
              "      <td>0.532353</td>\n",
              "      <td>1.120551</td>\n",
              "      <td>0.004086</td>\n",
              "      <td>1.122468</td>\n",
              "    </tr>\n",
              "    <tr>\n",
              "      <th>17</th>\n",
              "      <td>(Cake)</td>\n",
              "      <td>(Coffee)</td>\n",
              "      <td>0.103137</td>\n",
              "      <td>0.475081</td>\n",
              "      <td>0.054349</td>\n",
              "      <td>0.526958</td>\n",
              "      <td>1.109196</td>\n",
              "      <td>0.005350</td>\n",
              "      <td>1.109667</td>\n",
              "    </tr>\n",
              "    <tr>\n",
              "      <th>38</th>\n",
              "      <td>(Scone)</td>\n",
              "      <td>(Coffee)</td>\n",
              "      <td>0.034309</td>\n",
              "      <td>0.475081</td>\n",
              "      <td>0.017941</td>\n",
              "      <td>0.522936</td>\n",
              "      <td>1.100729</td>\n",
              "      <td>0.001642</td>\n",
              "      <td>1.100310</td>\n",
              "    </tr>\n",
              "  </tbody>\n",
              "</table>\n",
              "</div>"
            ],
            "text/plain": [
              "         antecedents consequents  ...  leverage  conviction\n",
              "44           (Toast)    (Coffee)  ...  0.007651    1.775789\n",
              "43  (Spanish Brunch)    (Coffee)  ...  0.002233    1.308493\n",
              "28       (Medialuna)    (Coffee)  ...  0.005779    1.218561\n",
              "34          (Pastry)    (Coffee)  ...  0.006590    1.172079\n",
              "3        (Alfajores)    (Coffee)  ...  0.002368    1.142861\n",
              "26           (Juice)    (Coffee)  ...  0.002266    1.127031\n",
              "32            (NONE)    (Coffee)  ...  0.004539    1.122908\n",
              "36        (Sandwich)    (Coffee)  ...  0.004086    1.122468\n",
              "17            (Cake)    (Coffee)  ...  0.005350    1.109667\n",
              "38           (Scone)    (Coffee)  ...  0.001642    1.100310\n",
              "\n",
              "[10 rows x 9 columns]"
            ]
          },
          "metadata": {
            "tags": []
          },
          "execution_count": 6
        }
      ]
    },
    {
      "cell_type": "code",
      "metadata": {
        "id": "3Pi7VGsBB7HE"
      },
      "source": [
        ""
      ],
      "execution_count": null,
      "outputs": []
    }
  ]
}